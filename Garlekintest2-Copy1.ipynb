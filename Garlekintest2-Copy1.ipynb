{
 "cells": [
  {
   "cell_type": "code",
   "execution_count": 5,
   "id": "f3bd56b0",
   "metadata": {},
   "outputs": [
    {
     "data": {
      "image/png": "[encoded data removed]",
      "text/plain": [
       "<Figure size 432x288 with 1 Axes>"
      ]
     },
     "metadata": {
      "needs_background": "light"
     },
     "output_type": "display_data"
    },
    {
     "name": "stdout",
     "output_type": "stream",
     "text": [
      "[[0. 0.]\n",
      " [2. 0.]\n",
      " [4. 0.]\n",
      " [0. 2.]\n",
      " [2. 2.]\n",
      " [4. 2.]\n",
      " [0. 4.]\n",
      " [2. 4.]\n",
      " [4. 4.]]\n",
      "[[1 2 5 4]\n",
      " [2 3 6 5]\n",
      " [4 5 8 7]\n",
      " [5 6 9 8]]\n"
     ]
    },
    {
     "ename": "NameError",
     "evalue": "name 'GalerkinResult' is not defined",
     "output_type": "error",
     "traceback": [
      "\u001b[0;31m---------------------------------------------------------------------------\u001b[0m",
      "\u001b[0;31mNameError\u001b[0m                                 Traceback (most recent call last)",
      "Input \u001b[0;32mIn [5]\u001b[0m, in \u001b[0;36m<cell line: 67>\u001b[0;34m()\u001b[0m\n\u001b[1;32m     64\u001b[0m     dataFrameList\u001b[38;5;241m.\u001b[39mappend(galerkinMethodRect(elemLength, elemWidth, NL, EL, h, Tf, kx, ky, q, i,l,w, listaLadosConv ))\n\u001b[1;32m     65\u001b[0m \u001b[38;5;66;03m#print(dataFrameList)\u001b[39;00m\n\u001b[0;32m---> 67\u001b[0m matrixCalor \u001b[38;5;241m=\u001b[39m \u001b[43mGalerkinResult\u001b[49m(dataFrameList) \u001b[38;5;66;03m#GalerkinResult organiza, combina y reduce los dataframes, los convierte en matrices \u001b[39;00m\n\u001b[1;32m     68\u001b[0m \u001b[38;5;66;03m#y se encuentra la solución al sistema de ecuaciones que se guarda en una matriz solución (matrixCalor)\u001b[39;00m\n\u001b[1;32m     69\u001b[0m ax \u001b[38;5;241m=\u001b[39m sns\u001b[38;5;241m.\u001b[39mheatmap(matrixCalor, linewidth\u001b[38;5;241m=\u001b[39m\u001b[38;5;241m0.5\u001b[39m,cmap\u001b[38;5;241m=\u001b[39m\u001b[38;5;124m\"\u001b[39m\u001b[38;5;124mjet\u001b[39m\u001b[38;5;124m\"\u001b[39m)\n",
      "\u001b[0;31mNameError\u001b[0m: name 'GalerkinResult' is not defined"
     ]
    }
   ],
   "source": [
    "#Archivo donde se llama a la funcion galerkin y se hacen pruebas numericas\n",
    "\n",
    "import numpy as np\n",
    "import matplotlib.pyplot as plt\n",
    "import pandas as pd\n",
    "from Mesh import * #Archivo donde esta la función para generar malla y para graficar\n",
    "from sympy import integrate, linear_eq_to_matrix, symbols,simplify,collect,  diff, Eq, Matrix\n",
    "from sympy import *\n",
    "from GalerkinFuntion import *\n",
    "from GalerkinFunRect import *\n",
    "\n",
    "from numpy import *\n",
    "import matplotlib.pyplot as plt\n",
    "import matplotlib.animation as animation\n",
    "import seaborn as sns\n",
    "\n",
    "\n",
    "\n",
    "  #print(matrixCalor)\n",
    "\n",
    "  # plt.imshow(matrixCalor, cmap='hot', interpolation='nearest')\n",
    "  # plt.show()\n",
    "#from GalerkinFuntionNormalizado import *\n",
    "\n",
    "l = 4 #Distancia en x\n",
    "#l=symbols('l')\n",
    "w = 4 #Distancia en y\n",
    "#w=symbols('w')\n",
    "p = 2  #Divisiones en x\n",
    "m = 2  #Divisiones en y\n",
    "\n",
    "#Definicion de condiciones iniciales\n",
    "\n",
    "#kx=symbols('kx')\n",
    "kx=1.2 #k conductividad en y\n",
    "#ky=symbols('kx')\n",
    "ky=1.2 #k conductividad en X\n",
    "\n",
    "#Para caso donde la superficie es fuente de calor\n",
    "#h=symbols('h')\n",
    "h=20 #h Coeficiente de conveccion h=-20\n",
    "#Tf=symbols('Tf')\n",
    "Tf=30 #Tf Temperatura del aire  Tf=100\n",
    "#q=symbols('q')\n",
    "q=1000 #q Flujo especifico de calor Vatios/m3   q=-100 \n",
    "\n",
    "\n",
    "elemLength = l/p #Largo del elemento\n",
    "elemWidth = w/m  #Ancho del elemento\n",
    "tipoDeElemento = 'CUADRADO' #Puede ser elemento tipo 'TRIANGULO' o 'CUADRADO'\n",
    "listaLadosConv=[True,True,True,True] #Lados i-j, j-m, m-n, n-i Lista con lados con conv\n",
    "\n",
    "\n",
    "#Se genera la lista NL (\"Node list\") que contiene las coordenadas de cada nodo\n",
    "#y EL(\"Element list\") que contiene la lista de nodos de cada elemento\n",
    "NL,EL = uniform_mesh(l, w, p, m, tipoDeElemento) # Generar malla\n",
    "graph_mesh(tipoDeElemento,NL,EL) #Graficar malla\n",
    "\n",
    "print(NL)\n",
    "print(EL)\n",
    "#galerkinMethodRect retorna un dataframe por elemento\n",
    "dataFrameList = []  #Se juntan las dataframe de cada elemento en una lista dataFrameList\n",
    "for i in range (0, len(EL)):\n",
    "    dataFrameList.append(galerkinMethodRect(elemLength, elemWidth, NL, EL, h, Tf, kx, ky, q, i,l,w, listaLadosConv ))\n",
    "#print(dataFrameList)\n",
    "\n",
    "matrixCalor = GalerkinResult(dataFrameList) #GalerkinResult organiza, combina y reduce los dataframes, los convierte en matrices \n",
    "#y se encuentra la solución al sistema de ecuaciones que se guarda en una matriz solución (matrixCalor)\n",
    "ax = sns.heatmap(matrixCalor, linewidth=0.5,cmap=\"jet\")\n",
    "plt.show()"
   ]
  },
  {
   "cell_type": "code",
   "execution_count": null,
   "id": "667eadac",
   "metadata": {},
   "outputs": [],
   "source": []
  }
 ],
 "metadata": {
  "kernelspec": {
   "display_name": "Python 3 (ipykernel)",
   "language": "python",
   "name": "python3"
  },
  "language_info": {
   "codemirror_mode": {
    "name": "ipython",
    "version": 3
   },
   "file_extension": ".py",
   "mimetype": "text/x-python",
   "name": "python",
   "nbconvert_exporter": "python",
   "pygments_lexer": "ipython3",
   "version": "3.10.2"
  }
 },
 "nbformat": 4,
 "nbformat_minor": 5
}
